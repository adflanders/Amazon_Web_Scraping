{
 "cells": [
  {
   "cell_type": "code",
   "execution_count": 1,
   "id": "d4574545",
   "metadata": {},
   "outputs": [],
   "source": [
    "# import libraries\n",
    "\n",
    "from bs4 import BeautifulSoup\n",
    "import requests\n",
    "import time\n",
    "import datetime"
   ]
  },
  {
   "cell_type": "code",
   "execution_count": 13,
   "id": "df212f1e",
   "metadata": {},
   "outputs": [
    {
     "name": "stdout",
     "output_type": "stream",
     "text": [
      "\n",
      "            Lenovo Legion 5 15.6\" FHD IPS 120Hz (6-Core Ryzen 5-5600H, 32GB RAM, 2TB PCIe SSD, GeForce RTX 3050 Ti 4GB) Backlit Gaming Laptop, 3D Nahimic Audio, WiFi 6, IST Cable, Windows 11 Home\n",
      "           \n",
      "\n",
      "                         $1,099.99\n",
      "                        \n"
     ]
    }
   ],
   "source": [
    "# Connect to Website and pull in data\n",
    "\n",
    "URL = 'https://www.amazon.com/Lenovo-Legion-7-5800H-GeForce-Backlit/dp/B0B3RKL5ZR/ref=sr_1_3?keywords=lenovo+gaming+laptop&qid=1686057793&sprefix=lenovo+gamin%2Caps%2C133&sr=8-3'\n",
    "\n",
    "headers = {\"User-Agent\": \"Mozilla/5.0 (Windows NT 10.0; Win64; x64) AppleWebKit/537.36 (KHTML, like Gecko) Chrome/114.0.0.0 Safari/537.36\", \"Accept-Encoding\":\"gzip, deflate\", \"Accept\":\"text/html,application/xhtml+xml,application/xml;q=0.9,*/*;q=0.8\", \"DNT\":\"1\",\"Connection\":\"close\", \"Upgrade-Insecure-Requests\":\"1\"}\n",
    "\n",
    "page = requests.get(URL, headers = headers)\n",
    "\n",
    "soup1 = BeautifulSoup(page.content, 'html.parser')\n",
    "\n",
    "soup2 = BeautifulSoup(soup1.prettify(), 'html.parser')\n",
    "\n",
    "title = soup2.find(id='productTitle').get_text()\n",
    "\n",
    "tag = soup2.find('span',class_=\"a-offscreen\")\n",
    "for i in tag: \n",
    "    price=i.text\n",
    "\n",
    "    \n",
    "print(title)\n",
    "print(price)"
   ]
  },
  {
   "cell_type": "code",
   "execution_count": 14,
   "id": "021a19d9",
   "metadata": {},
   "outputs": [],
   "source": [
    "# make the data usable\n",
    "\n",
    "price = (price.strip()[1:])\n",
    "title = title[0:35].strip()"
   ]
  },
  {
   "cell_type": "code",
   "execution_count": 25,
   "id": "f86e2a94",
   "metadata": {},
   "outputs": [
    {
     "name": "stdout",
     "output_type": "stream",
     "text": [
      "1099.99\n",
      "Lenovo Legion 5 15.6\"\n"
     ]
    }
   ],
   "source": [
    "# make the price a float and drop comma\n",
    "\n",
    "price = float(price.replace(',',''))\n",
    "print(price)\n",
    "print(title)"
   ]
  },
  {
   "cell_type": "code",
   "execution_count": 17,
   "id": "56da7d05",
   "metadata": {},
   "outputs": [],
   "source": [
    "# puting timestamp on when we pulled data from web\n",
    "\n",
    "import datetime\n",
    "\n",
    "pullDate = datetime.date.today()"
   ]
  },
  {
   "cell_type": "code",
   "execution_count": 27,
   "id": "ee222174",
   "metadata": {
    "scrolled": true
   },
   "outputs": [],
   "source": [
    "# ------------------------------IMPORTANT-------------------------------------\n",
    "# -----------DO NOT RUN AGAIN, WILL LOSE DATA AND MAKE NEW CSV----------------\n",
    "\n",
    "\n",
    "# making csv to import data\n",
    "\n",
    "import csv\n",
    "\n",
    "header = ['Title', 'Price', 'Date']\n",
    "data = [title, price, pullDate]\n",
    "\n",
    "with open('AmazonWebScraperDataSet.csv', 'w', newline='', encoding='UTF8') as f:\n",
    "    writer = csv.writer(f)\n",
    "    writer.writerow(header)\n",
    "    writer.writerow(data)\n",
    "\n"
   ]
  },
  {
   "cell_type": "code",
   "execution_count": 28,
   "id": "d6707913",
   "metadata": {
    "scrolled": true
   },
   "outputs": [
    {
     "name": "stdout",
     "output_type": "stream",
     "text": [
      "                   Title    Price        Date\n",
      "0  Lenovo Legion 5 15.6\"  1099.99  2023-06-06\n"
     ]
    }
   ],
   "source": [
    "import pandas as pd\n",
    "\n",
    "df = pd.read_csv(r\"C:\\Users\\Adam\\AmazonWebScraperDataSet.csv\")\n",
    "\n",
    "print(df)"
   ]
  },
  {
   "cell_type": "code",
   "execution_count": 31,
   "id": "dcc8bb88",
   "metadata": {},
   "outputs": [],
   "source": [
    "# now we are appending data to the csv\n",
    "# a+ instead of w in 'with open()' to append the data,\n",
    "# and no need for the header\n",
    "\n",
    "with open('AmazonWebScraperDataSet.csv', 'a+', newline='', encoding='UTF8') as f:\n",
    "    writer = csv.writer(f)\n",
    "    writer.writerow(data)\n",
    "    \n",
    "    "
   ]
  },
  {
   "cell_type": "code",
   "execution_count": 32,
   "id": "c5e1c6d9",
   "metadata": {},
   "outputs": [],
   "source": [
    "def check_price():\n",
    "    \n",
    "    URL = 'https://www.amazon.com/Funny-Data-Systems-Business-Analyst/dp/B07FNW9FGJ/ref=sr_1_3?dchild=1&keywords=data%2Banalyst%2Btshirt&qid=1626655184&sr=8-3&customId=B0752XJYNL&th=1'\n",
    "\n",
    "    headers = {\"User-Agent\": \"Mozilla/5.0 (Windows NT 10.0; Win64; x64) AppleWebKit/537.36 (KHTML, like Gecko) Chrome/114.0.0.0 Safari/537.36\", \"Accept-Encoding\":\"gzip, deflate\", \"Accept\":\"text/html,application/xhtml+xml,application/xml;q=0.9,*/*;q=0.8\", \"DNT\":\"1\",\"Connection\":\"close\", \"Upgrade-Insecure-Requests\":\"1\"}\n",
    "\n",
    "    page = requests.get(URL, headers = headers)\n",
    "\n",
    "    soup1 = BeautifulSoup(page.content, 'html.parser')\n",
    "\n",
    "    soup2 = BeautifulSoup(soup1.prettify(), 'html.parser')\n",
    "\n",
    "    title = soup2.find(id='productTitle').get_text()\n",
    "\n",
    "    tag = soup2.find('span',class_=\"a-offscreen\")\n",
    "    for i in tag: \n",
    "        price=i.text\n",
    "    \n",
    "    price = (price.strip()[1:])\n",
    "    title = (title.strip())\n",
    "\n",
    "    import datetime\n",
    "\n",
    "    pullDate = datetime.date.today()   \n",
    "\n",
    "    import csv\n",
    "\n",
    "    header = ['Title', 'Price', 'Date']\n",
    "    data = [title, price, pullDate]\n",
    "    \n",
    "    with open('AmazonWebScraperDataSet.csv', 'a+', newline='', encoding='UTF8') as f:\n",
    "        writer = csv.writer(f)\n",
    "        writer.writerow(data)\n",
    "    "
   ]
  },
  {
   "cell_type": "code",
   "execution_count": null,
   "id": "5b0041cc",
   "metadata": {},
   "outputs": [],
   "source": [
    "# checks price once a day and enters it into csv\n",
    "\n",
    "while(True):\n",
    "    check_price()\n",
    "    time.sleep(86400)"
   ]
  }
 ],
 "metadata": {
  "kernelspec": {
   "display_name": "Python 3 (ipykernel)",
   "language": "python",
   "name": "python3"
  },
  "language_info": {
   "codemirror_mode": {
    "name": "ipython",
    "version": 3
   },
   "file_extension": ".py",
   "mimetype": "text/x-python",
   "name": "python",
   "nbconvert_exporter": "python",
   "pygments_lexer": "ipython3",
   "version": "3.10.9"
  }
 },
 "nbformat": 4,
 "nbformat_minor": 5
}
